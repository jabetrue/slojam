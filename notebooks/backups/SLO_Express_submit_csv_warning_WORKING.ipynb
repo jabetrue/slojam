{
 "cells": [
  {
   "cell_type": "code",
   "execution_count": 1,
   "id": "66fda7ac-4c45-4103-be6b-ab0b49f4333c",
   "metadata": {},
   "outputs": [
    {
     "data": {
      "text/html": [
       "\n",
       "<style>\n",
       ".slo-button {\n",
       "  border: 1px solid #ccc;\n",
       "  border-radius: 6px;\n",
       "  padding: 8px 14px;\n",
       "  margin: 2px;\n",
       "  font-size: 14px;\n",
       "  cursor: pointer;\n",
       "}\n",
       "\n",
       ".slo-button.selected {\n",
       "  border: 2px solid black;\n",
       "}\n",
       "\n",
       ".score-4 { background-color: #c6f6d5; }  /* green (Exceeded) */\n",
       ".score-3 { background-color: #bee3f8; }  /* blue (Met) */\n",
       ".score-2 { background-color: #fbd38d; }  /* orange (Partially Met) */\n",
       ".score-1 { background-color: #feb2b2; }  /* red (Not Met) */\n",
       "</style>\n"
      ],
      "text/plain": [
       "<IPython.core.display.HTML object>"
      ]
     },
     "metadata": {},
     "output_type": "display_data"
    }
   ],
   "source": [
    "import os\n",
    "import sys\n",
    "import json\n",
    "import requests\n",
    "from dotenv import load_dotenv\n",
    "\n",
    "# Load environment variables from .env\n",
    "load_dotenv()\n",
    "\n",
    "# Add scripts folder to path so we can import canvas_api.py\n",
    "sys.path.append('../scripts')\n",
    "\n",
    "# Config values\n",
    "CANVAS_DOMAIN = os.getenv(\"CANVAS_API_BASE\")  # already ends in /api/v1\n",
    "ACCESS_TOKEN = os.getenv(\"CANVAS_API_TOKEN\")\n",
    "\n",
    "# Example fallback (in case you're working in notebook outside the normal flow)\n",
    "COURSE_ID = 1158826  # ART 001A sandbox; can override this later\n",
    "\n",
    "CURRENT_TERM_ID = 202550  # Spring 2025 — update as needed\n",
    "\n",
    "from IPython.display import display, HTML\n",
    "\n",
    "display(HTML(\"\"\"\n",
    "<style>\n",
    ".slo-button {\n",
    "  border: 1px solid #ccc;\n",
    "  border-radius: 6px;\n",
    "  padding: 8px 14px;\n",
    "  margin: 2px;\n",
    "  font-size: 14px;\n",
    "  cursor: pointer;\n",
    "}\n",
    "\n",
    ".slo-button.selected {\n",
    "  border: 2px solid black;\n",
    "}\n",
    "\n",
    ".score-4 { background-color: #c6f6d5; }  /* green (Exceeded) */\n",
    ".score-3 { background-color: #bee3f8; }  /* blue (Met) */\n",
    ".score-2 { background-color: #fbd38d; }  /* orange (Partially Met) */\n",
    ".score-1 { background-color: #feb2b2; }  /* red (Not Met) */\n",
    "</style>\n",
    "\"\"\"))\n",
    "\n"
   ]
  },
  {
   "cell_type": "code",
   "execution_count": 2,
   "id": "32a914b0-17f9-4383-b886-f5c09320a7e1",
   "metadata": {},
   "outputs": [
    {
     "name": "stdout",
     "output_type": "stream",
     "text": [
      "✅ Loaded slo_map.json\n"
     ]
    }
   ],
   "source": [
    "def get_slo_mapping(course_id):\n",
    "    \"\"\"\n",
    "    Fetches slo_map.json from a course's Files area in Canvas.\n",
    "    \"\"\"\n",
    "    headers = {\"Authorization\": f\"Bearer {os.getenv('CANVAS_API_TOKEN')}\"}\n",
    "    canvas_domain = os.getenv(\"CANVAS_API_BASE\").replace(\"/api/v1\", \"\")\n",
    "    \n",
    "    # Step 1: Get list of files in the course\n",
    "    list_files_url = f\"{canvas_domain}/api/v1/courses/{course_id}/files\"\n",
    "    response = requests.get(list_files_url, headers=headers)\n",
    "    response.raise_for_status()\n",
    "    files = response.json()\n",
    "\n",
    "    # Step 2: Find slo_map.json\n",
    "    slo_file = next((f for f in files if f[\"filename\"] == \"slo_map.json\"), None)\n",
    "    if not slo_file:\n",
    "        raise Exception(\"slo_map.json not found in course files.\")\n",
    "    \n",
    "    # Step 3: Download the file\n",
    "    download_url = slo_file[\"url\"]\n",
    "    file_response = requests.get(download_url, headers=headers)\n",
    "    file_response.raise_for_status()\n",
    "    \n",
    "    return json.loads(file_response.text)\n",
    "\n",
    "# Load the slo_map\n",
    "slo_map = get_slo_mapping(COURSE_ID)\n",
    "print(\"✅ Loaded slo_map.json\")\n"
   ]
  },
  {
   "cell_type": "code",
   "execution_count": 3,
   "id": "b9ff6d43-82e5-483b-bfee-6cd34d3f64fc",
   "metadata": {},
   "outputs": [
    {
     "name": "stdout",
     "output_type": "stream",
     "text": [
      "SIS: Sum25_ART001A_98765 → Parsed Course Code: ART001A\n"
     ]
    }
   ],
   "source": [
    "def get_sections(course_id):\n",
    "    \"\"\"\n",
    "    Returns a list of sections in a given course, including their SIS IDs.\n",
    "    \"\"\"\n",
    "    headers = {\"Authorization\": f\"Bearer {os.getenv('CANVAS_API_TOKEN')}\"}\n",
    "    canvas_domain = os.getenv(\"CANVAS_API_BASE\").replace(\"/api/v1\", \"\")\n",
    "    \n",
    "    url = f\"{canvas_domain}/api/v1/courses/{course_id}/sections\"\n",
    "    response = requests.get(url, headers=headers)\n",
    "    response.raise_for_status()\n",
    "    sections = response.json()\n",
    "\n",
    "    return [\n",
    "        {\n",
    "            \"id\": section[\"id\"],\n",
    "            \"sis_section_id\": section.get(\"sis_section_id\"),\n",
    "            \"name\": section.get(\"name\")\n",
    "        }\n",
    "        for section in sections\n",
    "    ]\n",
    "\n",
    "def parse_course_code_from_sis_id(sis_id):\n",
    "    \"\"\"\n",
    "    Extracts course code from SIS ID like 'Sum25_ART001A_98765' → 'ART001A'\n",
    "    \"\"\"\n",
    "    try:\n",
    "        parts = sis_id.split(\"_\")\n",
    "        if len(parts) >= 3:\n",
    "            return parts[1]\n",
    "    except Exception as e:\n",
    "        print(f\"Error parsing SIS ID '{sis_id}': {e}\")\n",
    "    return \"UNKNOWN\"\n",
    "\n",
    "# 🔍 Test it out\n",
    "sections = get_sections(COURSE_ID)\n",
    "for section in sections:\n",
    "    parsed = parse_course_code_from_sis_id(section[\"sis_section_id\"])\n",
    "    print(f\"SIS: {section['sis_section_id']} → Parsed Course Code: {parsed}\")\n"
   ]
  },
  {
   "cell_type": "code",
   "execution_count": 4,
   "id": "d7cf6aa2-7c9c-4d65-8a7d-d527cff1f5c4",
   "metadata": {},
   "outputs": [],
   "source": [
    "# Place this near your API helper functions\n",
    "def get_instructor_name():\n",
    "    headers = {\"Authorization\": f\"Bearer \" + os.getenv(\"CANVAS_API_TOKEN\")}\n",
    "    url = os.getenv(\"CANVAS_API_BASE\").replace(\"/api/v1\", \"\") + \"/api/v1/users/self/profile\"\n",
    "    \n",
    "    response = requests.get(url, headers=headers)\n",
    "    response.raise_for_status()\n",
    "    \n",
    "    return response.json().get(\"name\", \"Unknown Instructor\")\n"
   ]
  },
  {
   "cell_type": "code",
   "execution_count": 5,
   "id": "23c7a88a-3e1c-4bd2-8eca-ae5978c44803",
   "metadata": {},
   "outputs": [],
   "source": [
    "def is_user_teacher(course_id):\n",
    "    \"\"\"\n",
    "    Returns True if the current user is enrolled in the course as a Teacher.\n",
    "    \"\"\"\n",
    "    headers = {\"Authorization\": f\"Bearer \" + os.getenv(\"CANVAS_API_TOKEN\")}\n",
    "    canvas_domain = os.getenv(\"CANVAS_API_BASE\").replace(\"/api/v1\", \"\")\n",
    "    \n",
    "    url = f\"{canvas_domain}/api/v1/courses/{course_id}/enrollments?user_id=self\"\n",
    "    response = requests.get(url, headers=headers)\n",
    "    response.raise_for_status()\n",
    "    \n",
    "    enrollments = response.json()\n",
    "    for e in enrollments:\n",
    "        if e.get(\"type\") == \"TeacherEnrollment\":\n",
    "            return True\n",
    "    return False\n"
   ]
  },
  {
   "cell_type": "code",
   "execution_count": 6,
   "id": "251614d5-50af-444d-8422-eb23016aa26b",
   "metadata": {},
   "outputs": [
    {
     "name": "stdout",
     "output_type": "stream",
     "text": [
      "✅ Outcomes for ART001A:\n",
      "Required: [1400300, 1400302]\n",
      "Optional: [1400301, 1400303]\n"
     ]
    }
   ],
   "source": [
    "def get_outcomes_for_course(slo_map, course_code, term_code=None):\n",
    "    \"\"\"\n",
    "    Looks up outcomes for a given course_code and term_code in slo_map.\n",
    "    Returns a dict with required and optional outcome IDs.\n",
    "    \"\"\"\n",
    "    try:\n",
    "        term_code = term_code or str(CURRENT_TERM_ID)  # fallback to global term ID\n",
    "        course_entry = slo_map.get(course_code, {})\n",
    "        term_entry = course_entry.get(term_code, {})\n",
    "        return {\n",
    "            \"required\": term_entry.get(\"required\", []),\n",
    "            \"optional\": term_entry.get(\"optional\", [])\n",
    "        }\n",
    "    except Exception as e:\n",
    "        print(f\"Error retrieving outcomes for {course_code} / {term_code}: {e}\")\n",
    "        return {\"required\": [], \"optional\": []}\n",
    "\n",
    "# ⛏ Extract outcomes based on parsed code\n",
    "parsed_course_code = parse_course_code_from_sis_id(sections[0][\"sis_section_id\"])\n",
    "outcomes = get_outcomes_for_course(slo_map, parsed_course_code)\n",
    "\n",
    "print(f\"✅ Outcomes for {parsed_course_code}:\")\n",
    "print(\"Required:\", outcomes[\"required\"])\n",
    "print(\"Optional:\", outcomes[\"optional\"])\n"
   ]
  },
  {
   "cell_type": "code",
   "execution_count": 7,
   "id": "649c6bb0-4052-4329-8a03-e1c7a73d3644",
   "metadata": {},
   "outputs": [
    {
     "name": "stdout",
     "output_type": "stream",
     "text": [
      "✅ Students in section 1303851:\n",
      "- Pam Beesly (ID: 2216505)\n",
      "- Jim Halpert (ID: 2216504)\n",
      "- Angela Kinsey (ID: 2216503)\n",
      "- Dwight Schrute (ID: 2216506)\n"
     ]
    }
   ],
   "source": [
    "def get_students_in_section(section_id):\n",
    "    \"\"\"\n",
    "    Fetches all students in a given section.\n",
    "    \"\"\"\n",
    "    headers = {\"Authorization\": f\"Bearer {os.getenv('CANVAS_API_TOKEN')}\"}\n",
    "    canvas_domain = os.getenv(\"CANVAS_API_BASE\").replace(\"/api/v1\", \"\")\n",
    "    \n",
    "    url = f\"{canvas_domain}/api/v1/sections/{section_id}/enrollments?type[]=StudentEnrollment\"\n",
    "    response = requests.get(url, headers=headers)\n",
    "    response.raise_for_status()\n",
    "    enrollments = response.json()\n",
    "\n",
    "    return [\n",
    "        {\n",
    "            \"id\": e[\"user_id\"],\n",
    "            \"name\": e[\"user\"][\"name\"],\n",
    "            \"sortable_name\": e[\"user\"].get(\"sortable_name\"),\n",
    "            \"sis_user_id\": e[\"user\"].get(\"sis_user_id\")\n",
    "        }\n",
    "        for e in enrollments if e[\"type\"] == \"StudentEnrollment\"\n",
    "    ]\n",
    "\n",
    "# 👥 Choose a section (first one by default for now)\n",
    "section_id = sections[0][\"id\"]\n",
    "\n",
    "# 🎯 Get the students in that section\n",
    "students = get_students_in_section(section_id)\n",
    "\n",
    "print(f\"✅ Students in section {section_id}:\")\n",
    "for s in students:\n",
    "    print(f\"- {s['name']} (ID: {s['id']})\")\n"
   ]
  },
  {
   "cell_type": "code",
   "execution_count": 8,
   "id": "e300f492-599c-4186-9f43-dd44b992767d",
   "metadata": {},
   "outputs": [
    {
     "name": "stdout",
     "output_type": "stream",
     "text": [
      "✅ Loaded outcome_descriptions:\n",
      "Sample keys: ['1254565', '1255117', '1255118', '1255119', '1255120']\n"
     ]
    }
   ],
   "source": [
    "import pandas as pd\n",
    "\n",
    "# Load the outcomes CSV (assuming it lives in ../data)\n",
    "outcomes_df = pd.read_csv(\"../data/slo_outcomes.csv\")\n",
    "\n",
    "# Normalize only outcome rows\n",
    "def clean_guid(guid):\n",
    "    if pd.isna(guid):\n",
    "        return None\n",
    "    guid = str(guid)\n",
    "    if \"canvas_outcome:\" in guid:\n",
    "        return guid.split(\":\")[-1].strip()\n",
    "    return None\n",
    "\n",
    "# Build the outcome_descriptions dictionary\n",
    "outcome_descriptions = {\n",
    "    cleaned: str(row[\"description\"]).strip()\n",
    "    for _, row in outcomes_df.iterrows()\n",
    "    if (cleaned := clean_guid(row[\"vendor_guid\"])) is not None\n",
    "}\n",
    "\n",
    "# Debug print\n",
    "print(\"✅ Loaded outcome_descriptions:\")\n",
    "print(\"Sample keys:\", list(outcome_descriptions.keys())[:5])\n",
    "\n",
    "# Temporary hardcoded patch values (these may eventually come from CSV)\n",
    "outcome_descriptions.update({\n",
    "    \"1400300\": \"Describe and analyze works of art and architecture, employing the language of formal and contextual analysis modeled in class and in assigned reading.\",\n",
    "    \"1400301\": \"Identify the key stylistic and thematic features of a work of art or architecture from a given period, cultural tradition and regional location of prehistory through the middle ages, including unknown works.\",\n",
    "    \"1400302\": \"Evaluate works of art and/or architecture, accounting for both similarities and differences.\",\n",
    "    \"1400303\": \"Analyze the ways in which art from prehistory through the middle ages has been employed historically to express fundamental human ideals, values, and beliefs.\"\n",
    "})\n"
   ]
  },
  {
   "cell_type": "code",
   "execution_count": 9,
   "id": "5a325e69-0e46-4a94-9de0-f2ccfb3d1d08",
   "metadata": {},
   "outputs": [],
   "source": [
    "import ipywidgets as widgets\n",
    "from IPython.display import display, HTML, FileLink\n",
    "import re\n",
    "import csv\n",
    "import io\n",
    "\n",
    "# === Reverse scoring options (4 to 1) ===\n",
    "score_options = [\n",
    "    (\"Exceeded (4)\", 4),\n",
    "    (\"Met (3)\", 3),\n",
    "    (\"Partially Met (2)\", 2),\n",
    "    (\"Not Met (1)\", 1)\n",
    "]\n",
    "\n",
    "# === Extract CRN from section SIS ID ===\n",
    "def extract_crn(sis_id):\n",
    "    try:\n",
    "        return sis_id.split(\"_\")[-1]\n",
    "    except:\n",
    "        return \"Unknown\"\n",
    "\n",
    "# === Extract formatted course name and SLO number from outcome title ===\n",
    "def parse_course_and_slo_number(title):\n",
    "    match = re.match(r\"([A-Z]{3,4} \\d+[A-Z]?) SLO (\\d+)\", title)\n",
    "    if match:\n",
    "        course = match.group(1)\n",
    "        slo_number = match.group(2)\n",
    "        return course, slo_number\n",
    "    return \"Unknown Course\", \"?\"\n",
    "\n",
    "# === Build the in-memory score UI ===\n",
    "def render_slo_interface(course_code, section_id, students, outcomes, slo_metadata, outcome_descriptions, sections, instructor_name=None):\n",
    "    student_scores = {}\n",
    "\n",
    "    matching_section = next((s for s in sections if s[\"id\"] == section_id), {})\n",
    "    crn = extract_crn(matching_section.get(\"sis_section_id\", \"Unknown\"))\n",
    "    formatted_course_name = course_code if \" \" in course_code else re.sub(r\"([A-Z]{3,4})(\\d+)\", r\"\\1 \\2\", course_code)\n",
    "\n",
    "    display(HTML(f\"<h3>SLO Scoring for {formatted_course_name} #{crn}</h3>\"))\n",
    "    if instructor_name:\n",
    "        display(HTML(f\"<div style='font-size: 0.95em; color: #555; margin-bottom: 10px;'>Instructor: {instructor_name}</div>\"))\n",
    "\n",
    "    instructions_html = \"\"\"\n",
    "    <div style=\"border-left: 4px solid #4CAF50; padding: 10px 15px; background-color: #f9f9f9; margin-bottom: 15px; font-size: 0.9em;\">\n",
    "      <p><strong>Quick Tips:</strong></p>\n",
    "      <ul style=\"margin-top: 5px; padding-left: 20px;\">\n",
    "        <li>Use the score buttons to assign SLO scores for each student.</li>\n",
    "        <li>Required SLOs are marked with a ⭐ symbol.</li>\n",
    "        <li>You can use the toggles below to hide optional outcomes or show/hide full descriptions.</li>\n",
    "      </ul>\n",
    "      <p>Need more help? <a href=\"https://example.com/tutorial\" target=\"_blank\">Watch the full tutorial video</a>.</p>\n",
    "    </div>\n",
    "    \"\"\"\n",
    "    display(HTML(instructions_html))\n",
    "\n",
    "    required_only_toggle = widgets.Checkbox(value=True, description=\"Show only SLOs required for Summer 2025\", indent=False)\n",
    "    description_toggle = widgets.Checkbox(value=True, description=\"Show full SLO descriptions\", indent=False)\n",
    "    display(widgets.HBox([required_only_toggle, description_toggle], layout=widgets.Layout(gap=\"30px\", margin=\"10px 0\")))\n",
    "\n",
    "    students_per_page_dropdown = widgets.Dropdown(\n",
    "        options=[(\"All\", \"all\"), (\"1\", 1), (\"5\", 5), (\"10\", 10), (\"20\", 20), (\"Custom\", \"custom\")],\n",
    "        value=5,\n",
    "        description=\"Students per page:\",\n",
    "        layout=widgets.Layout(width=\"300px\"),\n",
    "        style={\"description_width\": \"auto\"}\n",
    "    )\n",
    "\n",
    "    custom_input = widgets.BoundedIntText(\n",
    "        value=5, min=1, max=len(students), step=1, description=\"Custom:\",\n",
    "        layout=widgets.Layout(width=\"200px\"), visible=False\n",
    "    )\n",
    "\n",
    "    def handle_per_page_change(change):\n",
    "        custom_input.layout.visibility = 'visible' if change.new == \"custom\" else 'hidden'\n",
    "    students_per_page_dropdown.observe(handle_per_page_change, names='value')\n",
    "\n",
    "    display(widgets.HBox([students_per_page_dropdown, custom_input], layout=widgets.Layout(gap=\"20px\", margin=\"10px 0\")))\n",
    "\n",
    "    current_page = widgets.IntText(value=1, description=\"Page:\", layout=widgets.Layout(width=\"130px\"))\n",
    "\n",
    "    def get_per_page():\n",
    "        val = students_per_page_dropdown.value\n",
    "        if val == \"custom\": return custom_input.value\n",
    "        elif val == \"all\": return len(students)\n",
    "        return val\n",
    "\n",
    "    def get_page_count():\n",
    "        return max(1, -(-len(students) // get_per_page()))\n",
    "\n",
    "    prev_button = widgets.Button(description=\"◀ Prev\")\n",
    "    next_button = widgets.Button(description=\"Next ▶\")\n",
    "    prev_button.on_click(lambda b: current_page.set_trait('value', max(1, current_page.value - 1)))\n",
    "    next_button.on_click(lambda b: current_page.set_trait('value', min(get_page_count(), current_page.value + 1)))\n",
    "\n",
    "    display(widgets.HBox([\n",
    "        widgets.HBox([prev_button, next_button, current_page])\n",
    "    ], layout=widgets.Layout(justify_content=\"flex-end\", margin=\"0 0 10px\")))\n",
    "\n",
    "    per_page = get_per_page()\n",
    "    start = (current_page.value - 1) * per_page\n",
    "    end = start + per_page\n",
    "    paged_students = students[start:end]\n",
    "\n",
    "    display(HTML(f\"\"\"\n",
    "      <div style='margin: 5px 0 15px; font-size: 0.85em; color: #666;'>\n",
    "        Showing {len(paged_students)} of {len(students)} students\n",
    "        (Page {current_page.value} of {get_page_count()})\n",
    "      </div>\n",
    "    \"\"\"))\n",
    "\n",
    "    for student in paged_students:\n",
    "        sid = student[\"id\"]\n",
    "        student_scores[sid] = {}\n",
    "        display(HTML(f\"<b>{student['name']}</b>\"))\n",
    "\n",
    "        all_oids = [(oid, \"required\") for oid in outcomes[\"required\"]]\n",
    "        if not required_only_toggle.value:\n",
    "            all_oids += [(oid, \"optional\") for oid in outcomes[\"optional\"]]\n",
    "\n",
    "        def get_slo_sort_key(oid):\n",
    "            title = slo_metadata.get(str(oid), {}).get(\"title\", \"\")\n",
    "            _, slo_num = parse_course_and_slo_number(title)\n",
    "            try:\n",
    "                return int(slo_num)\n",
    "            except:\n",
    "                return 999\n",
    "\n",
    "        all_oids.sort(key=lambda pair: get_slo_sort_key(pair[0]))\n",
    "\n",
    "        for idx, (oid, req_type) in enumerate(all_oids, start=1):\n",
    "            outcome_info = slo_metadata.get(str(oid), {})\n",
    "            title = outcome_info.get(\"title\", f\"SLO {idx}\")\n",
    "            _, slo_num = parse_course_and_slo_number(title)\n",
    "            description_text = outcome_descriptions.get(str(oid), \"No description found.\")\n",
    "            is_required = (req_type == \"required\")\n",
    "            label_text = f\"⭐ SLO {slo_num}:\" if is_required else f\"SLO {slo_num}:\"\n",
    "\n",
    "            slo_label = widgets.HTML(value=f\"<div style='font-weight: bold; width: 90px'>{label_text}</div>\")\n",
    "            desc_html = description_text if description_toggle.value else \"\"\n",
    "            slo_desc = widgets.HTML(value=f\"<div style='font-size: 0.9em; color: #444; line-height: 1.4;'>{desc_html}</div>\")\n",
    "\n",
    "            score_toggle = widgets.ToggleButtons(\n",
    "                options=[(label, value) for label, value in score_options],\n",
    "                value=None,\n",
    "                button_style='',\n",
    "                layout=widgets.Layout(margin=\"0 0 10px 0\")\n",
    "            )\n",
    "\n",
    "            student_scores[sid][oid] = score_toggle\n",
    "\n",
    "            row = widgets.HBox([\n",
    "                slo_label,\n",
    "                widgets.Box([slo_desc], layout=widgets.Layout(flex=\"1\")),\n",
    "                score_toggle\n",
    "            ], layout=widgets.Layout(margin=\"6px 0\", align_items=\"flex-start\"))\n",
    "            display(row)\n",
    "\n",
    "    display(HTML(\"<hr style='margin: 25px 0 10px;'>\"))\n",
    "    display(widgets.HBox([\n",
    "        widgets.HBox([prev_button, next_button, current_page])\n",
    "    ], layout=widgets.Layout(justify_content=\"flex-end\", margin=\"0 0 15px\")))\n",
    "\n",
    "    csv_toggle = widgets.Checkbox(value=True, description=\"Export CSV of Scores\")\n",
    "    output_area = widgets.Output()\n",
    "\n",
    "    def on_submit_click(b):\n",
    "        missing_entries = []\n",
    "        for student in students:\n",
    "            sid = student[\"id\"]\n",
    "            name = student[\"name\"]\n",
    "            for oid in outcomes[\"required\"]:\n",
    "                if student_scores[sid][oid].value is None:\n",
    "                    _, slo_num = parse_course_and_slo_number(slo_metadata.get(str(oid), {}).get(\"title\", \"\"))\n",
    "                    missing_entries.append(f\"{name} — SLO {slo_num}\")\n",
    "\n",
    "        with output_area:\n",
    "            output_area.clear_output()\n",
    "            if missing_entries:\n",
    "                warning_html = \"<p style='color: red; font-weight: bold;'>⚠️ Cannot submit. Missing scores for required outcomes:</p><ul>\"\n",
    "                for entry in missing_entries:\n",
    "                    warning_html += f\"<li>{entry}</li>\"\n",
    "                warning_html += \"</ul>\"\n",
    "                confirm_button = widgets.Button(description=\"Submit Anyway\", button_style='warning')\n",
    "\n",
    "                def force_submit(_):\n",
    "                    confirm_button.layout.display = 'none'\n",
    "                    submit_scores()\n",
    "\n",
    "                confirm_button.on_click(force_submit)\n",
    "                display(HTML(warning_html))\n",
    "                display(confirm_button)\n",
    "            else:\n",
    "                submit_scores()\n",
    "\n",
    "    def submit_scores():\n",
    "        with output_area:\n",
    "            output_area.clear_output()\n",
    "            if csv_toggle.value:\n",
    "                csv_buffer = io.StringIO()\n",
    "                writer = csv.writer(csv_buffer)\n",
    "                writer.writerow([\"Student Name\", \"Student ID\", \"SLO #\", \"Outcome ID\", \"Score\", \"Required/Optional\", \"Description\"])\n",
    "\n",
    "                for student in students:\n",
    "                    sid = student[\"id\"]\n",
    "                    name = student[\"name\"]\n",
    "                    for oid, score_widget in student_scores[sid].items():\n",
    "                        outcome_info = slo_metadata.get(str(oid), {})\n",
    "                        _, slo_num = parse_course_and_slo_number(outcome_info.get(\"title\", \"\"))\n",
    "                        desc = outcome_descriptions.get(str(oid), \"\")\n",
    "                        score = score_widget.value\n",
    "                        req_status = \"Required\" if oid in outcomes[\"required\"] else \"Optional\"\n",
    "                        writer.writerow([name, sid, slo_num, oid, score, req_status, desc])\n",
    "\n",
    "                filename = f\"SLO_Scores_{matching_section.get('sis_section_id', 'UNKNOWN')}.csv\"\n",
    "                with open(filename, \"w\", newline='') as f:\n",
    "                    f.write(csv_buffer.getvalue())\n",
    "                display(HTML(\"<p>✅ CSV download ready:</p>\"))\n",
    "                display(FileLink(filename))\n",
    "            else:\n",
    "                display(HTML(\"<p>✅ Scores submitted successfully (no CSV exported).</p>\"))\n",
    "\n",
    "    submit_button = widgets.Button(description=\"Submit Scores\", button_style='success')\n",
    "    submit_button.on_click(on_submit_click)\n",
    "\n",
    "    display(widgets.VBox([\n",
    "        widgets.HBox([submit_button, csv_toggle], layout=widgets.Layout(justify_content=\"center\", gap=\"20px\")),\n",
    "        output_area\n",
    "    ], layout=widgets.Layout(margin=\"20px 0\")))\n"
   ]
  },
  {
   "cell_type": "code",
   "execution_count": 10,
   "id": "b9b124eb-cb70-4945-bbed-f555b4e1ab5c",
   "metadata": {},
   "outputs": [],
   "source": [
    "slo_metadata = {\n",
    "    \"1400300\": {\n",
    "        \"title\": \"ART 001A SLO 1. Research & Information Literacy, Quantitative Reasoning\",\n",
    "        \"description\": \"Describe and analyze works of art and architecture, employing the language of formal and contextual analysis modeled in class and in assigned reading.\"\n",
    "    },\n",
    "    \"1400301\": {\n",
    "        \"title\": \"ART 001A SLO 2. Research & Information Literacy\",\n",
    "        \"description\": \"Identify the key stylistic and thematic features of a work of art or architecture from a given period, cultural tradition and regional location of prehistory through the middle ages, including unknown works.\"\n",
    "    },\n",
    "    \"1400302\": {\n",
    "        \"title\": \"ART 001A SLO 3. Research & Information Literacy\",\n",
    "        \"description\": \"Evaluate works of art and/or architecture, accounting for both similarities and differences.\"\n",
    "    },\n",
    "    \"1400303\": {\n",
    "        \"title\": \"ART 001A SLO 4. Quantitative Reasoning\",\n",
    "        \"description\": \"Analyze the ways in which art from prehistory through the middle ages has been employed historically to express fundamental human ideals, values, and beliefs.\"\n",
    "    }\n",
    "}\n"
   ]
  },
  {
   "cell_type": "code",
   "execution_count": 11,
   "id": "dbbdf7e2-697b-455f-b260-31da4e7d5f39",
   "metadata": {
    "editable": true,
    "scrolled": true,
    "slideshow": {
     "slide_type": ""
    },
    "tags": []
   },
   "outputs": [
    {
     "data": {
      "text/html": [
       "<h3>SLO Scoring for ART 001A #98765</h3>"
      ],
      "text/plain": [
       "<IPython.core.display.HTML object>"
      ]
     },
     "metadata": {},
     "output_type": "display_data"
    },
    {
     "data": {
      "text/html": [
       "<div style='font-size: 0.95em; color: #555; margin-bottom: 10px;'>Instructor: Jason Betrue</div>"
      ],
      "text/plain": [
       "<IPython.core.display.HTML object>"
      ]
     },
     "metadata": {},
     "output_type": "display_data"
    },
    {
     "data": {
      "text/html": [
       "\n",
       "    <div style=\"border-left: 4px solid #4CAF50; padding: 10px 15px; background-color: #f9f9f9; margin-bottom: 15px; font-size: 0.9em;\">\n",
       "      <p><strong>Quick Tips:</strong></p>\n",
       "      <ul style=\"margin-top: 5px; padding-left: 20px;\">\n",
       "        <li>Use the score buttons to assign SLO scores for each student.</li>\n",
       "        <li>Required SLOs are marked with a ⭐ symbol.</li>\n",
       "        <li>You can use the toggles below to hide optional outcomes or show/hide full descriptions.</li>\n",
       "      </ul>\n",
       "      <p>Need more help? <a href=\"https://example.com/tutorial\" target=\"_blank\">Watch the full tutorial video</a>.</p>\n",
       "    </div>\n",
       "    "
      ],
      "text/plain": [
       "<IPython.core.display.HTML object>"
      ]
     },
     "metadata": {},
     "output_type": "display_data"
    },
    {
     "data": {
      "application/vnd.jupyter.widget-view+json": {
       "model_id": "3daceb7fe60e479a9d6f7747f96e0be1",
       "version_major": 2,
       "version_minor": 0
      },
      "text/plain": [
       "HBox(children=(Checkbox(value=True, description='Show only SLOs required for Summer 2025', indent=False), Chec…"
      ]
     },
     "metadata": {},
     "output_type": "display_data"
    },
    {
     "data": {
      "application/vnd.jupyter.widget-view+json": {
       "model_id": "811d292653ea4dfcb56df96e4e979c77",
       "version_major": 2,
       "version_minor": 0
      },
      "text/plain": [
       "HBox(children=(Dropdown(description='Students per page:', index=2, layout=Layout(width='300px'), options=(('Al…"
      ]
     },
     "metadata": {},
     "output_type": "display_data"
    },
    {
     "data": {
      "application/vnd.jupyter.widget-view+json": {
       "model_id": "a2201e572d894d44bdeacf29e06b39d3",
       "version_major": 2,
       "version_minor": 0
      },
      "text/plain": [
       "HBox(children=(HBox(children=(Button(description='◀ Prev', style=ButtonStyle()), Button(description='Next ▶', …"
      ]
     },
     "metadata": {},
     "output_type": "display_data"
    },
    {
     "data": {
      "text/html": [
       "\n",
       "      <div style='margin: 5px 0 15px; font-size: 0.85em; color: #666;'>\n",
       "        Showing 4 of 4 students\n",
       "        (Page 1 of 1)\n",
       "      </div>\n",
       "    "
      ],
      "text/plain": [
       "<IPython.core.display.HTML object>"
      ]
     },
     "metadata": {},
     "output_type": "display_data"
    },
    {
     "data": {
      "text/html": [
       "<b>Pam Beesly</b>"
      ],
      "text/plain": [
       "<IPython.core.display.HTML object>"
      ]
     },
     "metadata": {},
     "output_type": "display_data"
    },
    {
     "data": {
      "application/vnd.jupyter.widget-view+json": {
       "model_id": "2d8a7733092946f7acd41c2c09b67ab5",
       "version_major": 2,
       "version_minor": 0
      },
      "text/plain": [
       "HBox(children=(HTML(value=\"<div style='font-weight: bold; width: 90px'>⭐ SLO 1:</div>\"), Box(children=(HTML(va…"
      ]
     },
     "metadata": {},
     "output_type": "display_data"
    },
    {
     "data": {
      "application/vnd.jupyter.widget-view+json": {
       "model_id": "86ef706ea8504bb4b12fa02710d6ca34",
       "version_major": 2,
       "version_minor": 0
      },
      "text/plain": [
       "HBox(children=(HTML(value=\"<div style='font-weight: bold; width: 90px'>⭐ SLO 3:</div>\"), Box(children=(HTML(va…"
      ]
     },
     "metadata": {},
     "output_type": "display_data"
    },
    {
     "data": {
      "text/html": [
       "<b>Jim Halpert</b>"
      ],
      "text/plain": [
       "<IPython.core.display.HTML object>"
      ]
     },
     "metadata": {},
     "output_type": "display_data"
    },
    {
     "data": {
      "application/vnd.jupyter.widget-view+json": {
       "model_id": "a39d855e0c8845e8a2cb6f9cb1ad13af",
       "version_major": 2,
       "version_minor": 0
      },
      "text/plain": [
       "HBox(children=(HTML(value=\"<div style='font-weight: bold; width: 90px'>⭐ SLO 1:</div>\"), Box(children=(HTML(va…"
      ]
     },
     "metadata": {},
     "output_type": "display_data"
    },
    {
     "data": {
      "application/vnd.jupyter.widget-view+json": {
       "model_id": "e13fc071f54544f99c34f8cbe174cb22",
       "version_major": 2,
       "version_minor": 0
      },
      "text/plain": [
       "HBox(children=(HTML(value=\"<div style='font-weight: bold; width: 90px'>⭐ SLO 3:</div>\"), Box(children=(HTML(va…"
      ]
     },
     "metadata": {},
     "output_type": "display_data"
    },
    {
     "data": {
      "text/html": [
       "<b>Angela Kinsey</b>"
      ],
      "text/plain": [
       "<IPython.core.display.HTML object>"
      ]
     },
     "metadata": {},
     "output_type": "display_data"
    },
    {
     "data": {
      "application/vnd.jupyter.widget-view+json": {
       "model_id": "ff8d430afc904e618b629d9b5281844e",
       "version_major": 2,
       "version_minor": 0
      },
      "text/plain": [
       "HBox(children=(HTML(value=\"<div style='font-weight: bold; width: 90px'>⭐ SLO 1:</div>\"), Box(children=(HTML(va…"
      ]
     },
     "metadata": {},
     "output_type": "display_data"
    },
    {
     "data": {
      "application/vnd.jupyter.widget-view+json": {
       "model_id": "80fc4fe72ff04c65811c5434ff41711d",
       "version_major": 2,
       "version_minor": 0
      },
      "text/plain": [
       "HBox(children=(HTML(value=\"<div style='font-weight: bold; width: 90px'>⭐ SLO 3:</div>\"), Box(children=(HTML(va…"
      ]
     },
     "metadata": {},
     "output_type": "display_data"
    },
    {
     "data": {
      "text/html": [
       "<b>Dwight Schrute</b>"
      ],
      "text/plain": [
       "<IPython.core.display.HTML object>"
      ]
     },
     "metadata": {},
     "output_type": "display_data"
    },
    {
     "data": {
      "application/vnd.jupyter.widget-view+json": {
       "model_id": "bf49a389c4bb4eb3bd1b7c3268af95da",
       "version_major": 2,
       "version_minor": 0
      },
      "text/plain": [
       "HBox(children=(HTML(value=\"<div style='font-weight: bold; width: 90px'>⭐ SLO 1:</div>\"), Box(children=(HTML(va…"
      ]
     },
     "metadata": {},
     "output_type": "display_data"
    },
    {
     "data": {
      "application/vnd.jupyter.widget-view+json": {
       "model_id": "1cd36a7dbbd749679a8ebfe23f1ad648",
       "version_major": 2,
       "version_minor": 0
      },
      "text/plain": [
       "HBox(children=(HTML(value=\"<div style='font-weight: bold; width: 90px'>⭐ SLO 3:</div>\"), Box(children=(HTML(va…"
      ]
     },
     "metadata": {},
     "output_type": "display_data"
    },
    {
     "data": {
      "text/html": [
       "<hr style='margin: 25px 0 10px;'>"
      ],
      "text/plain": [
       "<IPython.core.display.HTML object>"
      ]
     },
     "metadata": {},
     "output_type": "display_data"
    },
    {
     "data": {
      "application/vnd.jupyter.widget-view+json": {
       "model_id": "c17ffe108d0d4f2fb24c4125581d8b74",
       "version_major": 2,
       "version_minor": 0
      },
      "text/plain": [
       "HBox(children=(HBox(children=(Button(description='◀ Prev', style=ButtonStyle()), Button(description='Next ▶', …"
      ]
     },
     "metadata": {},
     "output_type": "display_data"
    },
    {
     "data": {
      "application/vnd.jupyter.widget-view+json": {
       "model_id": "d42d934dd63a494197bc893656fdf8d7",
       "version_major": 2,
       "version_minor": 0
      },
      "text/plain": [
       "VBox(children=(HBox(children=(Button(button_style='success', description='Submit Scores', style=ButtonStyle())…"
      ]
     },
     "metadata": {},
     "output_type": "display_data"
    }
   ],
   "source": [
    "instructor_name = get_instructor_name()  # 🆕 Add this line!\n",
    "\n",
    "# Check teacher enrollment before rendering\n",
    "if is_user_teacher(COURSE_ID):\n",
    "    render_slo_interface(\n",
    "        parsed_course_code,\n",
    "        section_id,\n",
    "        students,\n",
    "        outcomes,\n",
    "        slo_metadata,\n",
    "        outcome_descriptions,\n",
    "        sections,\n",
    "        instructor_name\n",
    "    )\n",
    "else:\n",
    "    from IPython.display import display, HTML\n",
    "    display(HTML(\"<div style='color: red; font-weight: bold; margin: 10px 0;'>⛔ You are not enrolled as a Teacher in this course.</div>\"))\n"
   ]
  }
 ],
 "metadata": {
  "kernelspec": {
   "display_name": "Python 3 (ipykernel)",
   "language": "python",
   "name": "python3"
  },
  "language_info": {
   "codemirror_mode": {
    "name": "ipython",
    "version": 3
   },
   "file_extension": ".py",
   "mimetype": "text/x-python",
   "name": "python",
   "nbconvert_exporter": "python",
   "pygments_lexer": "ipython3",
   "version": "3.12.0"
  }
 },
 "nbformat": 4,
 "nbformat_minor": 5
}
